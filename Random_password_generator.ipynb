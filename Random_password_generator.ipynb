{
 "cells": [
  {
   "cell_type": "markdown",
   "metadata": {
    "id": "o4agzwPS-tda"
   },
   "source": [
    "### **Write a program to create a random password generator by using basic python inbuilt functions and datatype.**"
   ]
  },
  {
   "cell_type": "code",
   "execution_count": null,
   "metadata": {
    "colab": {
     "base_uri": "https://localhost:8080/"
    },
    "id": "CDAWY1fBDe67",
    "outputId": "42d365d2-797b-4964-b991-948e76f5480d"
   },
   "outputs": [
    {
     "name": "stdout",
     "output_type": "stream",
     "text": [
      "['0', '1', '2', '3', '4', '5', '6', '7', '8', '9']\n",
      "['a', 'b', 'c', 'd', 'e', 'f', 'g', 'h', 'i', 'j', 'k', 'l', 'm', 'n', 'o', 'p', 'q', 'r', 's', 't', 'u', 'v', 'w', 'x', 'y', 'z']\n",
      "['A', 'B', 'C', 'D', 'E', 'F', 'G', 'H', 'I', 'J', 'K', 'L', 'M', 'N', 'O', 'P', 'Q', 'R', 'S', 'T', 'U', 'V', 'W', 'X', 'Y', 'Z']\n",
      "['!', '\"', '#', '$', '%', '&', \"'\", '(', ')', '*']\n",
      "Database for password: ['0', '1', '2', '3', '4', '5', '6', '7', '8', '9', 'a', 'b', 'c', 'd', 'e', 'f', 'g', 'h', 'i', 'j', 'k', 'l', 'm', 'n', 'o', 'p', 'q', 'r', 's', 't', 'u', 'v', 'w', 'x', 'y', 'z', 'A', 'B', 'C', 'D', 'E', 'F', 'G', 'H', 'I', 'J', 'K', 'L', 'M', 'N', 'O', 'P', 'Q', 'R', 'S', 'T', 'U', 'V', 'W', 'X', 'Y', 'Z', '!', '\"', '#', '$', '%', '&', \"'\", '(', ')', '*']\n",
      "Here is your random password: 4qH$)WSM7W\n"
     ]
    }
   ],
   "source": [
    "import random\n",
    "\n",
    "'''Creating different variable for password'''\n",
    "password = \"\"\n",
    "password_length = 10\n",
    "digits = []\n",
    "lower_case = []\n",
    "upper_case = []\n",
    "special_char = []\n",
    "N = 26\n",
    "\n",
    "'''Creating database for password'''\n",
    "for i in range (0, 10):\n",
    "    digits.append(str(i))\n",
    "print(digits)\n",
    "\n",
    "for i in range (97, 97+N):\n",
    "    lower_case.append(chr(i))\n",
    "print(lower_case)\n",
    "\n",
    "for i in lower_case:\n",
    "    upper_case.append(i.upper())\n",
    "print(upper_case)\n",
    "\n",
    "for i in range(33, 43):\n",
    "    special_char.append(chr(i))\n",
    "print(special_char)\n",
    "\n",
    "'''Main database'''\n",
    "password_database = digits+lower_case+upper_case+special_char\n",
    "print(\"Database for password:\",password_database)\n",
    "\n",
    "'''Generating a random value for password'''\n",
    "random_digit = random.choice(digits)\n",
    "random_upper_case = random.choice(upper_case)\n",
    "random_lower_case = random.choice(lower_case)\n",
    "random_special_char = random.choice(special_char)\n",
    "\n",
    "'''A random password with 4 character'''\n",
    "random_password = random_digit+random_lower_case+random_upper_case+random_special_char\n",
    "\n",
    "'''Creating main password'''\n",
    "\n",
    "for x in range(password_length - 4):\n",
    "    random_password = random_password + random.choice(password_database)\n",
    "\n",
    "for i in random_password:\n",
    "    password = password + i\n",
    "\n",
    "print(\"Here is your random password:\",password)"
   ]
  }
 ],
 "metadata": {
  "colab": {
   "collapsed_sections": [],
   "name": "Random_password_generator.ipynb",
   "provenance": []
  },
  "kernelspec": {
   "display_name": "Python 3",
   "language": "python",
   "name": "python3"
  },
  "language_info": {
   "codemirror_mode": {
    "name": "ipython",
    "version": 3
   },
   "file_extension": ".py",
   "mimetype": "text/x-python",
   "name": "python",
   "nbconvert_exporter": "python",
   "pygments_lexer": "ipython3",
   "version": "3.8.8"
  }
 },
 "nbformat": 4,
 "nbformat_minor": 1
}
